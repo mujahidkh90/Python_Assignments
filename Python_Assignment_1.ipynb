{
 "cells": [
  {
   "cell_type": "code",
   "execution_count": 1,
   "metadata": {},
   "outputs": [
    {
     "name": "stdout",
     "output_type": "stream",
     "text": [
      "BISMILLAH\n"
     ]
    }
   ],
   "source": [
    "print(\"BISMILLAH\")\n"
   ]
  },
  {
   "cell_type": "code",
   "execution_count": null,
   "metadata": {},
   "outputs": [],
   "source": [
    "import sys\n",
    "from datetime import datetime\n",
    "# Q1. Write a Python program to print the following string in a specific format\n",
    "# (see the output).\n",
    "# Twinkle, twinkle, little star,\n",
    "#   How I wonder what you are!\n",
    "#       Up above the world so high,\n",
    "#       Like a diamond in the sky.\n",
    "# Twinkle, twinkle, little star,\n",
    "#   How I wonder what you are\n",
    "print(\"Twinkle, twinkle, little star,\\n\\tHow I wonder what you are!\\n\\t\\tUp above the world so high,\\n\\t\\tLike a diamond in the sky.\\nTwinkle, twinkle, little star,\\n\\tHow I wonder what you are\")\n",
    "\n",
    "\n",
    "# 2. Write a Python program to get the Python version you are using\n",
    "print(\"Current Python version is: \", sys.version)\n",
    "\n",
    "\n",
    "# 3. Write a Python program to display the current date and time.\n",
    "print(\"Date and time is: \", datetime.now())\n",
    "\n",
    "\n",
    "# 4. Write a Python program which accepts the radius of a circle from the user and compute the area.\n",
    "rad = int(input(\"enter radius of circle: \"))\n",
    "print(3.14*rad**2)\n",
    "# 5. Write a Python program which accepts the user's first and last name and print them in reverse order with a space between them.\n",
    "firstName = input(\"Enter your first name: \")\n",
    "lastName = input(\"Enter your last name: \")\n",
    "fullName = firstName+lastName\n",
    "for i in fullName[::-1]:\n",
    "    print(i ,end=\" \")\n",
    "\n",
    "\n",
    "# 6. Write a python program which takes two inputs from user and print them addition\n",
    "input_one = input(\"Enter First Input: \")\n",
    "input_two = input(\"Enter Second Input: \")\n",
    "print(input_one + input_two)\n",
    "\n"
   ]
  }
 ],
 "metadata": {
  "kernelspec": {
   "display_name": "Python 3",
   "language": "python",
   "name": "python3"
  },
  "language_info": {
   "codemirror_mode": {
    "name": "ipython",
    "version": 3
   },
   "file_extension": ".py",
   "mimetype": "text/x-python",
   "name": "python",
   "nbconvert_exporter": "python",
   "pygments_lexer": "ipython3",
   "version": "3.7.4"
  }
 },
 "nbformat": 4,
 "nbformat_minor": 2
}
